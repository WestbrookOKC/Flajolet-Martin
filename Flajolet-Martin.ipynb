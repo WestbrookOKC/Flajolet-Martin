{
 "cells": [
  {
   "cell_type": "code",
   "execution_count": 1,
   "id": "8a4d9c17",
   "metadata": {},
   "outputs": [],
   "source": [
    "from bitarray import bitarray\n",
    "import statistics\n",
    "import jhashcode\n",
    "import mmh3"
   ]
  },
  {
   "cell_type": "code",
   "execution_count": 2,
   "id": "c1dcdbc6",
   "metadata": {},
   "outputs": [],
   "source": [
    "# there are total 9 files.\n",
    "# I decide to partition them into 3 groups\n",
    "files = ['quotes_2008-08.txt','quotes_2008-09.txt','quotes_2008-10.txt','quotes_2008-11.txt','quotes_2008-12.txt',\n",
    "        'quotes_2009-01.txt','quotes_2009-02.txt','quotes_2009-03.txt','quotes_2009-04.txt']"
   ]
  },
  {
   "cell_type": "code",
   "execution_count": 3,
   "id": "5a38b9c5",
   "metadata": {},
   "outputs": [],
   "source": [
    "# file[0,1,2] -> list_A, file[3,4,5] -> list_B, file[6,7,8] -> list_C\n",
    "list_A = []\n",
    "\n",
    "\n",
    "# append into list_A\n",
    "for i in range(3):\n",
    "    open_file_30 = open(files[i], \"r\")\n",
    "    for x in open_file_30:\n",
    "        temp = x.split(\"\\t\")\n",
    "        if temp[0] == 'Q':\n",
    "            list_A.append(temp[1])\n",
    "    open_file_30.close()"
   ]
  },
  {
   "cell_type": "code",
   "execution_count": 39,
   "id": "14b31c5b",
   "metadata": {},
   "outputs": [],
   "source": [
    "# append into list_B    \n",
    "list_B = []\n",
    "for i in range(3,6):\n",
    "    open_file_30 = open(files[i], \"r\")\n",
    "    for x in open_file_30:\n",
    "        temp = x.split(\"\\t\")\n",
    "        if temp[0] == 'Q':\n",
    "            list_B.append(temp[1])\n",
    "    open_file_30.close()"
   ]
  },
  {
   "cell_type": "code",
   "execution_count": 43,
   "id": "aac7c6c2",
   "metadata": {},
   "outputs": [],
   "source": [
    "# append into list_C\n",
    "list_C = []\n",
    "for i in range(6,9):\n",
    "    open_file_30 = open(files[i], \"r\")\n",
    "    for x in open_file_30:\n",
    "        temp = x.split(\"\\t\")\n",
    "        if temp[0] == 'Q':\n",
    "            list_C.append(temp[1])\n",
    "    open_file_30.close()"
   ]
  },
  {
   "cell_type": "code",
   "execution_count": 4,
   "id": "437e2682",
   "metadata": {},
   "outputs": [
    {
     "data": {
      "text/plain": [
       "['how to create property binding in a visual webgui silverlight control\\n',\n",
       " 'videoplayer silverlight controls videoplayer videoplayer silverlight controls version 1 0 0 0 culture neutral publickeytoken null\\n',\n",
       " 'videoplayer controls videoplayer videoplayer controls\\n',\n",
       " 'our continuing strategic priority is to provide a safe and efficient group of airports while pursuing development opportunities which improve the air transport network serving the region\\n',\n",
       " 'our results for the year demonstrate that we have delivered against these targets and ensured that our airports have continued to play a central role in the economic and social life of the highlands and islands and tayside\\n']"
      ]
     },
     "execution_count": 4,
     "metadata": {},
     "output_type": "execute_result"
    }
   ],
   "source": [
    "list_A[:5]"
   ]
  },
  {
   "cell_type": "code",
   "execution_count": 4,
   "id": "e2a43069",
   "metadata": {},
   "outputs": [],
   "source": [
    "# create function which get the number of trailing 0s in hash(a)\n",
    "def get_zeros_number(a):\n",
    "    a = str(a)\n",
    "    count = 0\n",
    "    for i in range(len(a)-1,-1,-1):\n",
    "        if a[i] == '0':\n",
    "            count += 1\n",
    "        else:\n",
    "            break\n",
    "    return count"
   ]
  },
  {
   "cell_type": "code",
   "execution_count": 60,
   "id": "bfbded11",
   "metadata": {},
   "outputs": [
    {
     "data": {
      "text/plain": [
       "6"
      ]
     },
     "execution_count": 60,
     "metadata": {},
     "output_type": "execute_result"
    }
   ],
   "source": [
    "get_zeros_number('1111000000')"
   ]
  },
  {
   "cell_type": "code",
   "execution_count": null,
   "id": "d70cdbe9",
   "metadata": {},
   "outputs": [],
   "source": [
    "# at first, I want to store number into three list\n",
    "# however, python collapse everytime since the size of file is 500, which is too large\n",
    "# therefore, I have to store it one by one into a new file\n",
    "# after that, I re-start my python can read from that files, instead of running the following code\n",
    "\n",
    "# record zeros number of each groups\n",
    "zeros_number_A = []\n",
    "zeros_number_B = []\n",
    "zeros_number_C = []\n",
    "\n",
    "for x in list_A:\n",
    "    zeros_number_A.append(format(abs(mmh3.hash(x)),'b'))\n",
    "    \n",
    "for x in list_B:\n",
    "    zeros_number_B.append(format(abs(mmh3.hash(x)),'b'))\n",
    "    \n",
    "for x in list_C:\n",
    "    zeros_number_C.append(format(abs(mmh3.hash(x)),'b'))\n"
   ]
  },
  {
   "cell_type": "code",
   "execution_count": 31,
   "id": "40d7843c",
   "metadata": {},
   "outputs": [
    {
     "data": {
      "text/plain": [
       "4"
      ]
     },
     "execution_count": 31,
     "metadata": {},
     "output_type": "execute_result"
    }
   ],
   "source": [
    "get_zeros_number(format(abs(mmh3.hash(list_A[521])),'b'))"
   ]
  },
  {
   "cell_type": "code",
   "execution_count": 53,
   "id": "a9c55a20",
   "metadata": {},
   "outputs": [
    {
     "data": {
      "text/plain": [
       "55001829"
      ]
     },
     "execution_count": 53,
     "metadata": {},
     "output_type": "execute_result"
    }
   ],
   "source": [
    "len(list_A)"
   ]
  },
  {
   "cell_type": "code",
   "execution_count": 30,
   "id": "705818e9",
   "metadata": {},
   "outputs": [
    {
     "data": {
      "text/plain": [
       "'1100111001110011111001000111'"
      ]
     },
     "execution_count": 30,
     "metadata": {},
     "output_type": "execute_result"
    }
   ],
   "source": [
    "format(abs(mmh3.hash(list_A[0].split()[9])),'b')"
   ]
  },
  {
   "cell_type": "code",
   "execution_count": null,
   "id": "03d28a53",
   "metadata": {},
   "outputs": [],
   "source": [
    "# store data into file group_A\n",
    "with open(\"group_A\",'w') as file1:\n",
    "    for x in list_A:\n",
    "        file1.write(\"\\n\"+str(get_zeros_number(format(abs(mmh3.hash(x)),'b'))))\n",
    "file1.close()"
   ]
  },
  {
   "cell_type": "code",
   "execution_count": 42,
   "id": "e564cbb4",
   "metadata": {},
   "outputs": [],
   "source": [
    "# store data into file group_B\n",
    "with open(\"group_B\",'w') as file1:\n",
    "    for x in list_B:\n",
    "        file1.write(\"\\n\"+str(get_zeros_number(format(abs(mmh3.hash(x)),'b'))))\n",
    "file1.close()"
   ]
  },
  {
   "cell_type": "code",
   "execution_count": 44,
   "id": "e3f18a57",
   "metadata": {},
   "outputs": [],
   "source": [
    "# store data into file group_C\n",
    "with open(\"group_C\",'w') as file1:\n",
    "    for x in list_C:\n",
    "        file1.write(\"\\n\"+str(get_zeros_number(format(abs(mmh3.hash(x)),'b'))))\n",
    "file1.close()"
   ]
  },
  {
   "cell_type": "code",
   "execution_count": null,
   "id": "2993f23d",
   "metadata": {},
   "outputs": [],
   "source": [
    "group_A = []\n",
    "open_file_30 = open('group_A', \"r\")\n",
    "lines = open_file_30.readlines() \n",
    "for x in lines:\n",
    "    #temp = x.split(\"\\t\")\n",
    "    group_A.append(int(x))\n",
    "open_file_30.close()"
   ]
  },
  {
   "cell_type": "code",
   "execution_count": 9,
   "id": "a7be4d52",
   "metadata": {},
   "outputs": [],
   "source": [
    "group_B = []\n",
    "open_file_30 = open('group_B', \"r\")\n",
    "lines = open_file_30.readlines() \n",
    "for x in lines:\n",
    "    #temp = x.split(\"\\t\")\n",
    "    group_B.append(int(x))\n",
    "open_file_30.close()"
   ]
  },
  {
   "cell_type": "code",
   "execution_count": 11,
   "id": "50d44aee",
   "metadata": {},
   "outputs": [],
   "source": [
    "group_C = []\n",
    "open_file_30 = open('group_C', \"r\")\n",
    "lines = open_file_30.readlines() \n",
    "for x in lines:\n",
    "    #temp = x.split(\"\\t\")\n",
    "    group_C.append(int(x))\n",
    "open_file_30.close()"
   ]
  },
  {
   "cell_type": "code",
   "execution_count": 13,
   "id": "c503d6b3",
   "metadata": {},
   "outputs": [],
   "source": [
    "# find the max R and get the Estimated number of distinct elements\n",
    "R = 0\n",
    "if max(group_A) > max(group_B):\n",
    "    R = max(group_A)\n",
    "else:\n",
    "    R = max(group_B)\n",
    "    \n",
    "if R < max(group_C):\n",
    "    R = max(group_C)"
   ]
  },
  {
   "cell_type": "code",
   "execution_count": 14,
   "id": "82889233",
   "metadata": {},
   "outputs": [
    {
     "name": "stdout",
     "output_type": "stream",
     "text": [
      "Estimated number of distinct elements: 536870912\n"
     ]
    }
   ],
   "source": [
    "# Estimated number of distinct elements = 2^R\n",
    "# the original answer\n",
    "ans = 2 ** int(R)\n",
    "print('Estimated number of distinct elements: ' + str(ans))"
   ]
  },
  {
   "cell_type": "code",
   "execution_count": 51,
   "id": "d0a37f15",
   "metadata": {},
   "outputs": [
    {
     "name": "stdout",
     "output_type": "stream",
     "text": [
      "Estimated number of distinct elements: 16777216\n"
     ]
    }
   ],
   "source": [
    "# use the method discussed in Section 4.4.3 to provide more accurate results\n",
    "# Take the median of groups\n",
    "# Then take the average of the medians\n",
    "\n",
    "# I tried the above method, but it did not work well, since too many 0 in list\n",
    "# making the median to be 1 or 0\n",
    "# I decide to choose median of three max_R\n",
    "# then calculate the average of three max_R\n",
    "# final R = the average of (median + average)\n",
    "\n",
    "import numpy as np\n",
    "\n",
    "max_group_A = max(group_A)\n",
    "max_group_B = max(group_B)\n",
    "max_group_C = max(group_C)\n",
    "\n",
    "median = np.median([max_group_A,max_group_B,max_group_C])\n",
    "average = (max_group_A+max_group_B+max_group_C) / float(3)\n",
    "\n",
    "final_R = (median + average) / float(2.0)\n",
    "\n",
    "improved_ans = 2 ** int(final_R)\n",
    "print('Estimated number of distinct elements: ' + str(improved_ans))"
   ]
  }
 ],
 "metadata": {
  "kernelspec": {
   "display_name": "Python 3 (ipykernel)",
   "language": "python",
   "name": "python3"
  },
  "language_info": {
   "codemirror_mode": {
    "name": "ipython",
    "version": 3
   },
   "file_extension": ".py",
   "mimetype": "text/x-python",
   "name": "python",
   "nbconvert_exporter": "python",
   "pygments_lexer": "ipython3",
   "version": "3.8.9"
  }
 },
 "nbformat": 4,
 "nbformat_minor": 5
}
